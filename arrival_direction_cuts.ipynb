{
 "cells": [
  {
   "cell_type": "code",
   "execution_count": 19,
   "metadata": {},
   "outputs": [],
   "source": [
    "import pandas as pd\n",
    "import time\n",
    "import numpy as np\n",
    "import struct\n",
    "import matplotlib.pyplot as plt\n",
    "from cr_data_inspection_functions import *\n",
    "from lwa_antpos import mapping\n",
    "from scipy.optimize import curve_fit\n",
    "import math\n",
    "import scipy.stats as st\n",
    "\n",
    "## load array map\n",
    "array_map=pd.read_csv('array-map-5-22-2023.csv')\n",
    "xdict={}\n",
    "ydict={}\n",
    "zdict={}\n",
    "for i,n in enumerate(array_map['antname']):\n",
    "    xdict[n]=array_map['x'][i]\n",
    "    ydict[n]=array_map['y'][i]\n",
    "    zdict[n]=array_map['elevation'][i]\n",
    "arraymapdictionaries=[xdict,ydict,zdict]"
   ]
  },
  {
   "cell_type": "code",
   "execution_count": 24,
   "metadata": {},
   "outputs": [
    {
     "name": "stdout",
     "output_type": "stream",
     "text": [
      "3\n"
     ]
    }
   ],
   "source": [
    "#saved_events_indices=np.load('/data0/cosmic-ray-data/2023May3/overnight1683180640.2699194.indices_first_cuts.npy')\n",
    "saved_events_indices=np.load('/data0/cosmic-ray-data/2023May3-dataproducts/early_attempts/2023May3-dataproductsovernight1683180803.759128.indices_cuts2.npy')\n",
    "\n",
    "fname='/data0/cosmic-ray-data/2023May3/overnight1683180640.2699194.dat'\n",
    "\n",
    "\n",
    "\n",
    "\n",
    "reloaded_events=[]\n",
    "for i in saved_events_indices:\n",
    "    event_records=parsefile(fname,start_ind=i,end_ind=704 ) #note that start_ind counts from the beginning of the file and end_ind counts from start_ind \n",
    "    reloaded_events.append(event_records)\n",
    "print(len(reloaded_events))"
   ]
  },
  {
   "cell_type": "code",
   "execution_count": null,
   "metadata": {},
   "outputs": [],
   "source": [
    "print(len(event_records))\n",
    "merged=mergepolarizations(event_records,arraymapdictionaries)\n",
    "for i,m in enumerate(merged):\n",
    "    if 'rmsB' in m.keys():\n",
    "        pass\n",
    "    else:\n",
    "        print(i)\n",
    "    "
   ]
  },
  {
   "cell_type": "code",
   "execution_count": 41,
   "metadata": {
    "scrolled": false
   },
   "outputs": [
    {
     "ename": "KeyError",
     "evalue": "'rmsB'",
     "output_type": "error",
     "traceback": [
      "\u001b[0;31m---------------------------------------------------------------------------\u001b[0m",
      "\u001b[0;31mKeyError\u001b[0m                                  Traceback (most recent call last)",
      "\u001b[0;32m<ipython-input-41-d71961644339>\u001b[0m in \u001b[0;36m<module>\u001b[0;34m()\u001b[0m\n\u001b[1;32m      6\u001b[0m     \u001b[0mindex_peak_A\u001b[0m\u001b[0;34m=\u001b[0m\u001b[0mnp\u001b[0m\u001b[0;34m.\u001b[0m\u001b[0masarray\u001b[0m\u001b[0;34m(\u001b[0m\u001b[0;34m[\u001b[0m\u001b[0mrecord\u001b[0m\u001b[0;34m[\u001b[0m\u001b[0;34m'index_peak_A'\u001b[0m\u001b[0;34m]\u001b[0m \u001b[0;32mfor\u001b[0m \u001b[0mrecord\u001b[0m \u001b[0;32min\u001b[0m \u001b[0mmergedrecords\u001b[0m\u001b[0;34m]\u001b[0m\u001b[0;34m)\u001b[0m\u001b[0;34m\u001b[0m\u001b[0;34m\u001b[0m\u001b[0m\n\u001b[1;32m      7\u001b[0m \u001b[0;34m\u001b[0m\u001b[0m\n\u001b[0;32m----> 8\u001b[0;31m     \u001b[0mrmsB\u001b[0m\u001b[0;34m=\u001b[0m\u001b[0mnp\u001b[0m\u001b[0;34m.\u001b[0m\u001b[0masarray\u001b[0m\u001b[0;34m(\u001b[0m\u001b[0;34m[\u001b[0m\u001b[0mrecord\u001b[0m\u001b[0;34m[\u001b[0m\u001b[0;34m'rmsB'\u001b[0m\u001b[0;34m]\u001b[0m \u001b[0;32mfor\u001b[0m \u001b[0mrecord\u001b[0m \u001b[0;32min\u001b[0m \u001b[0mmergedrecords\u001b[0m\u001b[0;34m]\u001b[0m\u001b[0;34m)\u001b[0m\u001b[0;34m\u001b[0m\u001b[0;34m\u001b[0m\u001b[0m\n\u001b[0m\u001b[1;32m      9\u001b[0m     \u001b[0mpeakB\u001b[0m\u001b[0;34m=\u001b[0m\u001b[0mnp\u001b[0m\u001b[0;34m.\u001b[0m\u001b[0masarray\u001b[0m\u001b[0;34m(\u001b[0m\u001b[0;34m[\u001b[0m\u001b[0mrecord\u001b[0m\u001b[0;34m[\u001b[0m\u001b[0;34m'peakB'\u001b[0m\u001b[0;34m]\u001b[0m \u001b[0;32mfor\u001b[0m \u001b[0mrecord\u001b[0m \u001b[0;32min\u001b[0m \u001b[0mmergedrecords\u001b[0m\u001b[0;34m]\u001b[0m\u001b[0;34m)\u001b[0m\u001b[0;34m\u001b[0m\u001b[0;34m\u001b[0m\u001b[0m\n\u001b[1;32m     10\u001b[0m     \u001b[0mindex_peak_B\u001b[0m\u001b[0;34m=\u001b[0m\u001b[0mnp\u001b[0m\u001b[0;34m.\u001b[0m\u001b[0masarray\u001b[0m\u001b[0;34m(\u001b[0m\u001b[0;34m[\u001b[0m\u001b[0mrecord\u001b[0m\u001b[0;34m[\u001b[0m\u001b[0;34m'index_peak_B'\u001b[0m\u001b[0;34m]\u001b[0m \u001b[0;32mfor\u001b[0m \u001b[0mrecord\u001b[0m \u001b[0;32min\u001b[0m \u001b[0mmergedrecords\u001b[0m\u001b[0;34m]\u001b[0m\u001b[0;34m)\u001b[0m\u001b[0;34m\u001b[0m\u001b[0;34m\u001b[0m\u001b[0m\n",
      "\u001b[0;32m<ipython-input-41-d71961644339>\u001b[0m in \u001b[0;36m<listcomp>\u001b[0;34m(.0)\u001b[0m\n\u001b[1;32m      6\u001b[0m     \u001b[0mindex_peak_A\u001b[0m\u001b[0;34m=\u001b[0m\u001b[0mnp\u001b[0m\u001b[0;34m.\u001b[0m\u001b[0masarray\u001b[0m\u001b[0;34m(\u001b[0m\u001b[0;34m[\u001b[0m\u001b[0mrecord\u001b[0m\u001b[0;34m[\u001b[0m\u001b[0;34m'index_peak_A'\u001b[0m\u001b[0;34m]\u001b[0m \u001b[0;32mfor\u001b[0m \u001b[0mrecord\u001b[0m \u001b[0;32min\u001b[0m \u001b[0mmergedrecords\u001b[0m\u001b[0;34m]\u001b[0m\u001b[0;34m)\u001b[0m\u001b[0;34m\u001b[0m\u001b[0;34m\u001b[0m\u001b[0m\n\u001b[1;32m      7\u001b[0m \u001b[0;34m\u001b[0m\u001b[0m\n\u001b[0;32m----> 8\u001b[0;31m     \u001b[0mrmsB\u001b[0m\u001b[0;34m=\u001b[0m\u001b[0mnp\u001b[0m\u001b[0;34m.\u001b[0m\u001b[0masarray\u001b[0m\u001b[0;34m(\u001b[0m\u001b[0;34m[\u001b[0m\u001b[0mrecord\u001b[0m\u001b[0;34m[\u001b[0m\u001b[0;34m'rmsB'\u001b[0m\u001b[0;34m]\u001b[0m \u001b[0;32mfor\u001b[0m \u001b[0mrecord\u001b[0m \u001b[0;32min\u001b[0m \u001b[0mmergedrecords\u001b[0m\u001b[0;34m]\u001b[0m\u001b[0;34m)\u001b[0m\u001b[0;34m\u001b[0m\u001b[0;34m\u001b[0m\u001b[0m\n\u001b[0m\u001b[1;32m      9\u001b[0m     \u001b[0mpeakB\u001b[0m\u001b[0;34m=\u001b[0m\u001b[0mnp\u001b[0m\u001b[0;34m.\u001b[0m\u001b[0masarray\u001b[0m\u001b[0;34m(\u001b[0m\u001b[0;34m[\u001b[0m\u001b[0mrecord\u001b[0m\u001b[0;34m[\u001b[0m\u001b[0;34m'peakB'\u001b[0m\u001b[0;34m]\u001b[0m \u001b[0;32mfor\u001b[0m \u001b[0mrecord\u001b[0m \u001b[0;32min\u001b[0m \u001b[0mmergedrecords\u001b[0m\u001b[0;34m]\u001b[0m\u001b[0;34m)\u001b[0m\u001b[0;34m\u001b[0m\u001b[0;34m\u001b[0m\u001b[0m\n\u001b[1;32m     10\u001b[0m     \u001b[0mindex_peak_B\u001b[0m\u001b[0;34m=\u001b[0m\u001b[0mnp\u001b[0m\u001b[0;34m.\u001b[0m\u001b[0masarray\u001b[0m\u001b[0;34m(\u001b[0m\u001b[0;34m[\u001b[0m\u001b[0mrecord\u001b[0m\u001b[0;34m[\u001b[0m\u001b[0;34m'index_peak_B'\u001b[0m\u001b[0;34m]\u001b[0m \u001b[0;32mfor\u001b[0m \u001b[0mrecord\u001b[0m \u001b[0;32min\u001b[0m \u001b[0mmergedrecords\u001b[0m\u001b[0;34m]\u001b[0m\u001b[0;34m)\u001b[0m\u001b[0;34m\u001b[0m\u001b[0;34m\u001b[0m\u001b[0m\n",
      "\u001b[0;31mKeyError\u001b[0m: 'rmsB'"
     ]
    }
   ],
   "source": [
    "for event in [reloaded_events[0]]:  \n",
    "    mergedrecords=mergepolarizations(event,arraymapdictionaries)\n",
    "\n",
    "    rmsA=np.asarray([record['rmsA'] for record in mergedrecords])\n",
    "    peakA=np.asarray([record['peakA'] for record in mergedrecords])\n",
    "    index_peak_A=np.asarray([record['index_peak_A'] for record in mergedrecords])\n",
    "\n",
    "    rmsB=np.asarray([record['rmsB'] for record in mergedrecords])\n",
    "    peakB=np.asarray([record['peakB'] for record in mergedrecords])\n",
    "    index_peak_B=np.asarray([record['index_peak_B'] for record in mergedrecords])\n",
    "    peak_to_rmsA=peakA/rmsA\n",
    "    peak_to_rmsB=peakB/rmsB\n",
    "\n",
    "    xcoords=np.asarray([record['x'] for record in mergedrecords])\n",
    "    ycoords=np.asarray([record['y'] for record in mergedrecords])\n",
    "    zcoords=np.asarray([record['z'] for record in mergedrecords])\n",
    "    timestamps=np.asarray([record['timestamp'] for record in mergedrecords])\n",
    "    min_time=np.min(timestamps)\n",
    "\n",
    "    t_rel_A=index_peak_A + timestamps - min_time\n",
    "    t_rel_B=index_peak_B + timestamps - min_time\n",
    "\n",
    "    #make antenna cut based on rms\n",
    "    maximum_ok_rms=45\n",
    "    minimum_ok_rms=25\n",
    "    cutA = np.logical_and(rmsA >minimum_ok_rms, rmsA <maximum_ok_rms)\n",
    "    cutB = np.logical_and(rmsB >minimum_ok_rms, rmsB <maximum_ok_rms)\n",
    "    \n",
    "    cmin=0\n",
    "    cmax=11\n",
    "    minsnr=6\n",
    "    minstrongdetections=50\n",
    "    plot_peak_to_rms_ratio(peak_to_rmsA,cutA,peak_to_rmsB,cutB,xcoords,ycoords,cmin,cmax)\n",
    "    strongAdetections=np.sum((peak_to_rmsA[cutA])>minsnr)\n",
    "    strongBdetections=np.sum((peak_to_rmsB[cutB])>minsnr)\n",
    "    print(strongAdetections,strongBdetections,strongAdetections/strongBdetections)\n",
    "    strongestAsnr=np.max(peak_to_rmsA[cutA])\n",
    "    strongestBsnr=np.max(peak_to_rmsB[cutB])\n",
    "    \n",
    "    #plot timeseries (both polarizations) for highest snr antenna of each polarization\n",
    "    for r, record in enumerate(mergedrecords):\n",
    "        if record['peakA']/record['rmsA'] ==strongestAsnr:\n",
    "            kurtosisA=st.kurtosis(record['polA_data'])\n",
    "            kurtosisB=st.kurtosis(record['polB_data'])\n",
    "            plt.figure(figsize=(20,4))\n",
    "            plt.suptitle(record['antname']+ ' x = '+str(record['x'])+' y = '+str(record['y'])+ ' rms A = '+str(record['rmsA'])+ 'kurtosis A, B = '+str(kurtosisA)+', '+str(kurtosisB))\n",
    "            plt.subplot(121)\n",
    "            plt.plot(record['polA_data'])\n",
    "            plt.xlabel('Position in buffer for '+ record['antname'] +'Polarization A')\n",
    "            plt.ylabel('Voltage [ADC units]')\n",
    "            plt.subplot(122)\n",
    "            plt.plot(record['polB_data'])\n",
    "            plt.xlabel('Position in buffer for '+ record['antname'] +'Polarization B')\n",
    "            plt.ylabel('Voltage [ADC units]')\n",
    "\n",
    "            plt.figure(figsize=(20,4))\n",
    "            plt.subplot(121)\n",
    "            #note the different zoom for each pol\n",
    "            plt.plot(record['polA_data'])\n",
    "            plt.xlim(record['index_peak_A']-50,record['index_peak_A']+150)\n",
    "            plt.xlabel('Position in buffer for '+ record['antname'] +'Polarization A')\n",
    "            plt.ylabel('Voltage [ADC units]')\n",
    "            plt.subplot(122)\n",
    "            plt.plot(record['polB_data']) \n",
    "            plt.xlim(record['index_peak_B']-50,record['index_peak_B']+150)\n",
    "            plt.xlabel('Position in buffer for '+ record['antname'] +'Polarization B')\n",
    "            plt.ylabel('Voltage [ADC units]')\n",
    "            plt.show()\n",
    "\n",
    "        if record['peakB']/record['rmsB'] ==strongestBsnr: \n",
    "            kurtosisA=st.kurtosis(record['polA_data'][:2000])\n",
    "            kurtosisB=st.kurtosis(record['polB_data'][:2000])\n",
    "\n",
    "            plt.figure(figsize=(20,4))\n",
    "            plt.suptitle(record['antname']+ ' x = '+str(record['x'])+' y = '+str(record['y'])+ ' rms B = '+str(record['rmsB'])+ 'kurtosis A, B = '+str(kurtosisA)+', '+str(kurtosisB))\n",
    "            plt.subplot(121)\n",
    "            plt.plot(record['polA_data'])\n",
    "            plt.xlabel('Position in buffer for '+ record['antname'] +'Polarization A')\n",
    "            plt.ylabel('Voltage [ADC units]')\n",
    "            plt.subplot(122)\n",
    "            plt.plot(record['polB_data'])\n",
    "            plt.xlabel('Position in buffer for '+ record['antname'] +'Polarization B')\n",
    "            plt.ylabel('Voltage [ADC units]')\n",
    "\n",
    "            plt.figure(figsize=(20,4))\n",
    "            plt.subplot(121)\n",
    "            #note the different zoom for each pol\n",
    "            plt.plot(record['polA_data'])\n",
    "            plt.xlim(record['index_peak_A']-50,record['index_peak_A']+150)\n",
    "            plt.xlabel('Position in buffer for '+ record['antname'] +'Polarization A')\n",
    "            plt.ylabel('Voltage [ADC units]')\n",
    "            plt.subplot(122)\n",
    "            plt.plot(record['polB_data']) \n",
    "            plt.xlim(record['index_peak_B']-50,record['index_peak_B']+150)\n",
    "            plt.xlabel('Position in buffer for '+ record['antname'] +'Polarization B')\n",
    "            plt.ylabel('Voltage [ADC units]')\n",
    "        plt.show()"
   ]
  },
  {
   "cell_type": "code",
   "execution_count": 42,
   "metadata": {},
   "outputs": [
    {
     "name": "stdout",
     "output_type": "stream",
     "text": [
      "dict_keys(['antname', 'x', 'y', 'z', 'timestamp', 'board_id', 'this_board_triggered', 'coincidence_threshold', 'veto_threshold', 'trigger_power_threshold', 'veto_power_threshold', 'coincidence_window', 'veto_coincidence_window', 'trigger_role_A', 'antenna_id_A', 'veto_role_A', 'polA_data', 'rmsA', 'index_peak_A', 'peakA', 'trigger_role_B', 'antenna_id_B', 'veto_role_B', 'polB_data', 'rmsB', 'index_peak_B', 'peakB'])\n"
     ]
    }
   ],
   "source": [
    "print(mergedrecords[0].keys())"
   ]
  },
  {
   "cell_type": "code",
   "execution_count": 43,
   "metadata": {},
   "outputs": [
    {
     "data": {
      "text/plain": [
       "dict_keys(['antname', 'x', 'y', 'z', 'timestamp', 'board_id', 'this_board_triggered', 'coincidence_threshold', 'veto_threshold', 'trigger_power_threshold', 'veto_power_threshold', 'coincidence_window', 'veto_coincidence_window', 'trigger_role_A', 'antenna_id_A', 'veto_role_A', 'polA_data', 'rmsA', 'index_peak_A', 'peakA'])"
      ]
     },
     "execution_count": 43,
     "metadata": {},
     "output_type": "execute_result"
    }
   ],
   "source": [
    "record.keys()"
   ]
  },
  {
   "cell_type": "code",
   "execution_count": null,
   "metadata": {},
   "outputs": [],
   "source": []
  },
  {
   "cell_type": "code",
   "execution_count": 44,
   "metadata": {},
   "outputs": [
    {
     "ename": "KeyError",
     "evalue": "'rmsB'",
     "output_type": "error",
     "traceback": [
      "\u001b[0;31m---------------------------------------------------------------------------\u001b[0m",
      "\u001b[0;31mKeyError\u001b[0m                                  Traceback (most recent call last)",
      "\u001b[0;32m<ipython-input-44-cae8ca036822>\u001b[0m in \u001b[0;36m<module>\u001b[0;34m()\u001b[0m\n\u001b[1;32m      1\u001b[0m \u001b[0;32mfor\u001b[0m \u001b[0mi\u001b[0m\u001b[0;34m,\u001b[0m\u001b[0mrecord\u001b[0m \u001b[0;32min\u001b[0m \u001b[0menumerate\u001b[0m\u001b[0;34m(\u001b[0m\u001b[0mmergedrecords\u001b[0m\u001b[0;34m)\u001b[0m\u001b[0;34m:\u001b[0m\u001b[0;34m\u001b[0m\u001b[0;34m\u001b[0m\u001b[0m\n\u001b[0;32m----> 2\u001b[0;31m     \u001b[0mrmsB\u001b[0m\u001b[0;34m=\u001b[0m\u001b[0mrecord\u001b[0m\u001b[0;34m[\u001b[0m\u001b[0;34m'rmsB'\u001b[0m\u001b[0;34m]\u001b[0m\u001b[0;34m\u001b[0m\u001b[0;34m\u001b[0m\u001b[0m\n\u001b[0m",
      "\u001b[0;31mKeyError\u001b[0m: 'rmsB'"
     ]
    }
   ],
   "source": [
    "for i,record in enumerate(mergedrecords):\n",
    "    rmsB=record['rmsB']\n"
   ]
  },
  {
   "cell_type": "code",
   "execution_count": 45,
   "metadata": {},
   "outputs": [
    {
     "name": "stdout",
     "output_type": "stream",
     "text": [
      "349\n"
     ]
    }
   ],
   "source": [
    "print(i)"
   ]
  },
  {
   "cell_type": "code",
   "execution_count": null,
   "metadata": {},
   "outputs": [],
   "source": []
  }
 ],
 "metadata": {
  "kernelspec": {
   "display_name": "Python 3",
   "language": "python",
   "name": "python3"
  },
  "language_info": {
   "codemirror_mode": {
    "name": "ipython",
    "version": 3
   },
   "file_extension": ".py",
   "mimetype": "text/x-python",
   "name": "python",
   "nbconvert_exporter": "python",
   "pygments_lexer": "ipython3",
   "version": "3.6.10"
  }
 },
 "nbformat": 4,
 "nbformat_minor": 4
}
