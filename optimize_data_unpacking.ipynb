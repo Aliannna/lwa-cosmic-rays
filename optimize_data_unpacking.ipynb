{
 "cells": [
  {
   "cell_type": "code",
   "execution_count": 1,
   "id": "fee0949b",
   "metadata": {},
   "outputs": [
    {
     "name": "stdout",
     "output_type": "stream",
     "text": [
      "dsautils.cnf not found. skipping...\n",
      "Read antpos from etcd\n"
     ]
    }
   ],
   "source": [
    "import pandas as pd\n",
    "import time\n",
    "import numpy as np\n",
    "import struct\n",
    "import matplotlib.pyplot as plt\n",
    "from cr_data_inspection_functions import *\n",
    "from lwa_antpos import mapping\n",
    "from scipy.optimize import curve_fit\n",
    "import scipy.stats as st\n",
    "import math\n",
    "from scipy import signal"
   ]
  },
  {
   "cell_type": "code",
   "execution_count": 2,
   "id": "a97b8702",
   "metadata": {},
   "outputs": [],
   "source": [
    "%load_ext line_profiler"
   ]
  },
  {
   "cell_type": "code",
   "execution_count": 3,
   "id": "ff2ade25",
   "metadata": {},
   "outputs": [],
   "source": [
    "counterfile='/home/ubuntu/kp/data/newpacketizer/cosmic_ray_system_2023-03-23_1205/counter1679614319.2388244.dat'\n",
    "constantsfile='/home/ubuntu/kp/data/newpacketizer/cosmic_ray_system_2023-03-23_1205/constant1679614293.2181191.dat'"
   ]
  },
  {
   "cell_type": "code",
   "execution_count": 4,
   "id": "b5b2a26f",
   "metadata": {},
   "outputs": [
    {
     "name": "stdout",
     "output_type": "stream",
     "text": [
      "64\n",
      "64\n"
     ]
    }
   ],
   "source": [
    "counter_records=parsefile(counterfile)\n",
    "constants_records=parsefile(counterfile)\n",
    "print(len(counter_records))\n",
    "print(len(constants_records))"
   ]
  },
  {
   "cell_type": "markdown",
   "id": "c3c134a1",
   "metadata": {},
   "source": [
    "I want to try to make a faster unpackdata function and compare its performance to the old version. The unpackdata function is called within parsefile. Below, the function parsefile_test is a copy of parsefile from cr_data_inspection_functions.py except that it calls unpackdata_test instead of unpack_data. Similarly, unpackdata_old and parsefile_old are copies of the original. The function test_unpackdata is what I'll be changing.  With this way of organizing the code, I can profile the old and new versions for comparison by doing %lprun -f unpackdata parsefile(counterfile) and %lprun -f unpackdata_test parsefile_test(counterfile)"
   ]
  },
  {
   "cell_type": "code",
   "execution_count": 5,
   "id": "0f783fe7",
   "metadata": {},
   "outputs": [],
   "source": [
    "\n",
    "\n",
    "def parsefile_test(fname, start_ind=None, end_ind=None):\n",
    "    #get data and header from a file (fname) with raw data from an arbitrary number of cosmic ray packets\n",
    "    #returns a list of dictionaries, with one dictionary per packet\n",
    "    #the data key contains a numpy array of the timeseries and the other keys are header info as specified by the parseheader function\n",
    "    packet_size = 8192\n",
    "    if os.path.getsize(fname)%packet_size: \n",
    "        print(\"File contains incomplete packets\")\n",
    "        return\n",
    "    records = []\n",
    "    i = 0\n",
    "    if start_ind == None or start_ind < 0:\n",
    "        start_ind = 0\n",
    "    byte_start = start_ind * packet_size\n",
    "    with open(fname, mode=\"rb\") as datafile:   #read the file\n",
    "        datafile.seek(byte_start)\n",
    "        for piece in read_in_chunks(datafile, packet_size):\n",
    "            data_dict = parseheader(piece)\n",
    "            data_dict['data'] = unpackdata_test(piece, '>h')[16:-32]\n",
    "            records.append(data_dict)\n",
    "            i+=1\n",
    "            if i == end_ind:\n",
    "                break\n",
    "    return records\n",
    "\n",
    "def unpackdata_test(rawpacketdata,datatype):\n",
    "    #parse raw bytes into a numpy array\n",
    "    #pairs of bytes are interpreted as 16 bit integers, and the last 32 bytes are omitted as they are the header\n",
    "    #raw packet data is the data payload of a UDP packet from the cosmic ray firmware, including the header word\n",
    "    #datatype can be signed or unsigned and big endian or little endian, but must be a 16-bit data type. This argument was only for debugging\n",
    "    unpackeddata=np.frombuffer(rawpacketdata[:-32],dtype=datatype)\n",
    "    return unpackeddata\n",
    "\n",
    "def parsefile_old(fname, start_ind=None, end_ind=None):\n",
    "    #get data and header from a file (fname) with raw data from an arbitrary number of cosmic ray packets\n",
    "    #returns a list of dictionaries, with one dictionary per packet\n",
    "    #the data key contains a numpy array of the timeseries and the other keys are header info as specified by the parseheader function\n",
    "    packet_size = 8192\n",
    "    if os.path.getsize(fname)%packet_size: \n",
    "        print(\"File contains incomplete packets\")\n",
    "        return\n",
    "    records = []\n",
    "    i = 0\n",
    "    if start_ind == None or start_ind < 0:\n",
    "        start_ind = 0\n",
    "    byte_start = start_ind * packet_size\n",
    "    with open(fname, mode=\"rb\") as datafile:   #read the file\n",
    "        datafile.seek(byte_start)\n",
    "        for piece in read_in_chunks(datafile, packet_size):\n",
    "            data_dict = parseheader(piece)\n",
    "            data_dict['data'] =unpackdata_old(piece, '>h')[16:-32]\n",
    "\n",
    "            records.append(data_dict)\n",
    "            i+=1\n",
    "            if i == end_ind:\n",
    "                break\n",
    "    return records\n",
    "\n",
    "def unpackdata_old(rawpacketdata,datatype):\n",
    "    #parse raw bytes into a numpy array\n",
    "    #pairs of bytes are interpreted as 16 bit integers, and the last 32 bytes are omitted as they are the header\n",
    "    #raw packet data is the data payload of a UDP packet from the cosmic ray firmware, including the header word\n",
    "    #datatype can be signed or unsigned and big endian or little endian, but must be a 16-bit data type. This argument was only for debugging\n",
    "    nbytes=len(rawpacketdata)\n",
    "    unpackeddata=np.zeros(int((nbytes-32)/2),dtype=datatype)\n",
    "    for i in range(int((nbytes-32)/2)):\n",
    "        value=struct.unpack(datatype,rawpacketdata[(2*i):(2*i +2)]) #read a pair of bytes as an integer. Last 32 bytes are header\n",
    "        unpackeddata[i]=value[0] \n",
    "    return unpackeddata"
   ]
  },
  {
   "cell_type": "code",
   "execution_count": 12,
   "id": "abbe8161",
   "metadata": {},
   "outputs": [],
   "source": [
    "%lprun -f unpackdata_test parsefile_test(counterfile)"
   ]
  },
  {
   "cell_type": "code",
   "execution_count": 13,
   "id": "cb81adb4",
   "metadata": {},
   "outputs": [],
   "source": [
    "%lprun -f unpackdata_old parsefile_old(counterfile)"
   ]
  },
  {
   "cell_type": "code",
   "execution_count": 19,
   "id": "2c4f33c7",
   "metadata": {},
   "outputs": [],
   "source": [
    "%lprun -f parsefile_old parsefile_old(counterfile)"
   ]
  },
  {
   "cell_type": "code",
   "execution_count": 20,
   "id": "f969cc99",
   "metadata": {},
   "outputs": [],
   "source": [
    "%lprun -f parsefile parsefile(counterfile)"
   ]
  },
  {
   "cell_type": "markdown",
   "id": "e1640b59",
   "metadata": {},
   "source": [
    "# Test that the behavior is the same"
   ]
  },
  {
   "cell_type": "code",
   "execution_count": 6,
   "id": "2723bb62",
   "metadata": {},
   "outputs": [
    {
     "name": "stdout",
     "output_type": "stream",
     "text": [
      "0 0\n",
      "0 0\n"
     ]
    },
    {
     "data": {
      "image/png": "[encoded data removed]",
      "text/plain": [
       "<Figure size 432x288 with 1 Axes>"
      ]
     },
     "metadata": {
      "needs_background": "light"
     },
     "output_type": "display_data"
    },
    {
     "data": {
      "image/png": "[encoded data removed]",
      "text/plain": [
       "<Figure size 432x288 with 1 Axes>"
      ]
     },
     "metadata": {
      "needs_background": "light"
     },
     "output_type": "display_data"
    }
   ],
   "source": [
    "old=parsefile_old(counterfile)\n",
    "new=parsefile_test(counterfile)\n",
    "current=parsefile(counterfile)\n",
    "\n",
    "timeseries_old=np.asarray([record['data'] for record in old])\n",
    "timeseries_new=np.asarray([record['data'] for record in new])\n",
    "timeseries_current=np.asarray([record['data'] for record in current])\n",
    "difference=timeseries_old-timeseries_new\n",
    "check=timeseries_new-timeseries_current\n",
    "\n",
    "plt.figure()\n",
    "plt.imshow(timeseries_old,aspect='auto',interpolation='none')\n",
    "\n",
    "plt.figure()\n",
    "plt.imshow(timeseries_new,aspect='auto',interpolation='none')\n",
    "\n",
    "print(difference.min(),difference.max())\n",
    "print(check.min(),check.max())\n"
   ]
  },
  {
   "cell_type": "code",
   "execution_count": 7,
   "id": "e746e9d5",
   "metadata": {},
   "outputs": [
    {
     "name": "stdout",
     "output_type": "stream",
     "text": [
      "0 0\n",
      "0 0\n"
     ]
    },
    {
     "data": {
      "image/png": "[encoded data removed]",
      "text/plain": [
       "<Figure size 432x288 with 1 Axes>"
      ]
     },
     "metadata": {
      "needs_background": "light"
     },
     "output_type": "display_data"
    },
    {
     "data": {
      "image/png": "[encoded data removed]",
      "text/plain": [
       "<Figure size 432x288 with 1 Axes>"
      ]
     },
     "metadata": {
      "needs_background": "light"
     },
     "output_type": "display_data"
    }
   ],
   "source": [
    "timeseries_old=np.asarray([record['data'] for record in old])\n",
    "timeseries_new=np.asarray([record['data'] for record in new])\n",
    "timeseries_current=np.asarray([record['data'] for record in current])\n",
    "difference=timeseries_old-timeseries_new\n",
    "check=timeseries_new-timeseries_current\n",
    "\n",
    "plt.figure()\n",
    "plt.imshow(timeseries_old,aspect='auto',interpolation='none')\n",
    "\n",
    "plt.figure()\n",
    "plt.imshow(timeseries_new,aspect='auto',interpolation='none')\n",
    "\n",
    "print(difference.min(),difference.max())\n",
    "print(check.min(),check.max())\n",
    "\n"
   ]
  },
  {
   "cell_type": "markdown",
   "id": "0a67700f",
   "metadata": {},
   "source": [
    "# Scratchwork learning how to use np.frombuffer()"
   ]
  },
  {
   "cell_type": "code",
   "execution_count": 37,
   "id": "4dae52df",
   "metadata": {},
   "outputs": [],
   "source": [
    "testbytes=b'\\x01\\x02\\x03\\x04\\x05'\n",
    "\n",
    "a=np.frombuffer(testbytes, dtype=np.uint8, count=3)\n",
    "b=np.frombuffer(testbytes, dtype=np.uint8)\n",
    "c=np.frombuffer(testbytes, dtype=np.uint16,count=2)\n",
    "d=np.frombuffer(testbytes, dtype='>h',count=2)\n",
    "e=np.frombuffer(testbytes[:-1], dtype='>h')"
   ]
  },
  {
   "cell_type": "code",
   "execution_count": 35,
   "id": "41e39673",
   "metadata": {},
   "outputs": [
    {
     "name": "stdout",
     "output_type": "stream",
     "text": [
      "b'\\x01\\x02\\x03\\x04'\n"
     ]
    }
   ],
   "source": [
    "print(testbytes[:-1])"
   ]
  },
  {
   "cell_type": "code",
   "execution_count": 38,
   "id": "70286ee5",
   "metadata": {},
   "outputs": [
    {
     "name": "stdout",
     "output_type": "stream",
     "text": [
      "[1 2 3]\n",
      "[1 2 3 4 5]\n",
      "[ 513 1027]\n",
      "[258 772]\n",
      "[258 772]\n"
     ]
    }
   ],
   "source": [
    "print(a)\n",
    "print(b)\n",
    "print(c)\n",
    "print(d)\n",
    "print(e)"
   ]
  },
  {
   "cell_type": "code",
   "execution_count": null,
   "id": "39caa7e7",
   "metadata": {},
   "outputs": [],
   "source": []
  }
 ],
 "metadata": {
  "kernelspec": {
   "display_name": "Python 3",
   "language": "python",
   "name": "python3"
  },
  "language_info": {
   "codemirror_mode": {
    "name": "ipython",
    "version": 3
   },
   "file_extension": ".py",
   "mimetype": "text/x-python",
   "name": "python",
   "nbconvert_exporter": "python",
   "pygments_lexer": "ipython3",
   "version": "3.6.10"
  }
 },
 "nbformat": 4,
 "nbformat_minor": 5
}
