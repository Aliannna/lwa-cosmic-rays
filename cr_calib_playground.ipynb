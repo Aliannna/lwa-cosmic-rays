{
 "cells": [
  {
   "cell_type": "code",
   "execution_count": null,
   "id": "fc6a26f7",
   "metadata": {},
   "outputs": [],
   "source": [
    "import numpy as np\n",
    "import matplotlib.pyplot as plt\n",
    "import os\n",
    "import sys\n",
    "import math\n",
    "import pylab\n",
    "from scipy.interpolate import interp1d\n",
    "import time\n",
    "%matplotlib notebook"
   ]
  },
  {
   "cell_type": "code",
   "execution_count": null,
   "id": "ec223e13",
   "metadata": {},
   "outputs": [],
   "source": [
    "#need lwa software library for this\n",
    "from driftcurve import driftcurve, single_time_driftcurve\n",
    "import cr_data_inspection_functions as crd"
   ]
  },
  {
   "cell_type": "code",
   "execution_count": null,
   "id": "3a3e9eac",
   "metadata": {
    "scrolled": false
   },
   "outputs": [],
   "source": [
    "#driftcurve(do_plot=True)"
   ]
  },
  {
   "cell_type": "markdown",
   "id": "2715be05",
   "metadata": {},
   "source": [
    "# part 1 : load up the data"
   ]
  },
  {
   "cell_type": "code",
   "execution_count": null,
   "id": "5de37ac1",
   "metadata": {},
   "outputs": [],
   "source": [
    "fname = '/scr/kp/cr_data/overnight_scan_20-21April2023/overnight_software_snapshots1682051758.6163533.dat'\n",
    "events = crd.parsefile(fname, end_ind = 1000)\n",
    "ant_id = np.array([events[i]['antenna_id'] for i in range(len(events))])\n",
    "all_data_times = np.array([events[i]['timestamp'] for i in range(len(events))])\n",
    "all_data_wfs = np.array([events[i]['data'] for i in range(len(events))])"
   ]
  },
  {
   "cell_type": "code",
   "execution_count": null,
   "id": "a97fceda",
   "metadata": {},
   "outputs": [],
   "source": [
    "#select only one antenna\n",
    "which_antenna = 0\n",
    "cut = ant_id == 0\n",
    "data_times = all_data_times[cut]\n",
    "data_wfs = all_data_wfs[cut]\n",
    "print('number of events:', len(data_times))"
   ]
  },
  {
   "cell_type": "code",
   "execution_count": null,
   "id": "66519833",
   "metadata": {},
   "outputs": [],
   "source": [
    "def hanning_window(L):\n",
    "    n = np.arange(L)\n",
    "    return 0.5*(1-np.cos(2*np.pi*n/L))\n",
    "\n",
    "def do_fft(fs, samples):\n",
    "    '''\n",
    "    returns only the positive frequencies of the FFT\n",
    "    no normalization is applied\n",
    "    applies a Hanning window to the FFT\n",
    "    '''\n",
    "    L = samples.shape[-1]\n",
    "\n",
    "    N2 = L//2\n",
    "    f_res = fs/L   # Frequency resolution\n",
    "\n",
    "    Y = np.fft.fft(samples*hanning_window(L), L)\n",
    "\n",
    "    # Get the values of interest\n",
    "    Y_amp = np.abs(Y)\n",
    "    Y_phase = np.arctan2(Y.imag, Y.real)\n",
    "\n",
    "    freq = np.arange(0, N2)*f_res\n",
    "\n",
    "    amp = Y_amp.T[:N2].T\n",
    "    ph = Y_phase.T[:N2].T\n",
    "\n",
    "    return freq, amp, ph"
   ]
  },
  {
   "cell_type": "code",
   "execution_count": null,
   "id": "558555b8",
   "metadata": {},
   "outputs": [],
   "source": [
    "N = data_wfs.shape[-1]\n",
    "ADC_MAX = 2e9 #10 bits, but signed\n",
    "ADC_to_V = 1.35 #TODO this is completely incorrect\n",
    "fs = 196.e6 #approximate clock frequency\n",
    "broadband_corr = 1.63 #correction for Hanning window\n",
    "all_data_freq, data_amp, data_phase = do_fft(fs, data_wfs)\n",
    "data_amp /= N\n",
    "# next two numbers are to match with lwa paper\n",
    "FREQ_MIN = 30.e6\n",
    "FREQ_MAX = 80.e6\n",
    "data_power = np.abs(data_amp)**2\n",
    "all_P_data = 2. * broadband_corr**2 * (ADC_to_V/ADC_MAX)**2 * data_power #in rms V^2, factor of 2 is for negative freqs\n",
    "\n",
    "#setting coax cable distance to 100m for now, will eventually vary with antenna\n",
    "coax_distance = 100."
   ]
  },
  {
   "cell_type": "code",
   "execution_count": null,
   "id": "83cfdce5",
   "metadata": {},
   "outputs": [],
   "source": [
    "plt.figure()\n",
    "plt.semilogy(all_data_freq/1e6, np.mean(all_P_data,axis=0))"
   ]
  },
  {
   "cell_type": "code",
   "execution_count": null,
   "id": "251f4a77",
   "metadata": {},
   "outputs": [],
   "source": [
    "#cut extra frequencies\n",
    "FREQ_MIN = 30.e6\n",
    "FREQ_MAX = 80.e6\n",
    "cut = np.logical_and(all_data_freq >= FREQ_MIN, all_data_freq <= FREQ_MAX)\n",
    "data_freq = all_data_freq[cut]\n",
    "data_amp = data_amp[:,cut]\n",
    "data_phase = data_phase[:,cut]\n",
    "data_power = np.abs(data_amp)**2\n",
    "P_data = 2. * broadband_corr**2 * (ADC_to_V/ADC_MAX)**2 * data_power #in rms V^2, factor of 2 is for negative freqs\n",
    "\n",
    "#downsample frequencies to make this run faster\n",
    "downsample_N = 50\n",
    "P_data = P_data[:,::downsample_N]\n",
    "data_freq =data_freq[::downsample_N]"
   ]
  },
  {
   "cell_type": "markdown",
   "id": "9b85d317",
   "metadata": {},
   "source": [
    "# part 2 : set up the system of equations"
   ]
  },
  {
   "cell_type": "code",
   "execution_count": null,
   "id": "63c763ae",
   "metadata": {},
   "outputs": [],
   "source": [
    "#gives skytemp in K and lst\n",
    "#note that skytemp does not include antenna LNA gain\n",
    "#lst, skytemp = driftcurve(do_plot=False)\n",
    "dfreq = data_freq[1] - data_freq[0]\n",
    "P_sim = []\n",
    "k_b = 1.38e-23 #boltzmann const\n",
    "r_ant = 50. # ohms, this is a guess\n",
    "first = True\n",
    "for t in data_times:\n",
    "    Tsky = []\n",
    "    for f in data_freq:\n",
    "        lst, T = single_time_driftcurve(frequency = f)\n",
    "        Tsky.append(T)\n",
    "    first = False\n",
    "    Tsky = np.array(Tsky)\n",
    "    Psky = k_b * Tsky * dfreq * r_ant #in rms V^2\n",
    "    P_sim.append(Psky)\n",
    "P_sim = np.array(P_sim).reshape(data_times.shape[0], data_freq.shape[0])\n"
   ]
  },
  {
   "cell_type": "code",
   "execution_count": null,
   "id": "37e39ed9",
   "metadata": {},
   "outputs": [],
   "source": [
    "#need to load up antenna + LNA gain simulated\n",
    "#this is what you need for Psim1 in lwa paper (https://arxiv.org/pdf/1903.05988.pdf)\n",
    "#Psim1 = (Psky + N_lna) * G_ant*A_corr\n",
    "#currently loads up gain digitized from fig 2 in the paper\n",
    "\n",
    "#be careful, all of these interpolations have extrapolation on, which doesn't always work nicely\n",
    "\n",
    "def load_antenna_gain(freq):\n",
    "    fMHz, gdB = np.loadtxt('data/lwa_antenna_gain.csv', delimiter=',').T\n",
    "    gfunc = interp1d(fMHz, gdB, fill_value='extrapolate')\n",
    "    gain_out = gfunc(freq/1e6)\n",
    "    return 10.**(gain_out/10.)\n",
    "\n",
    "G_ant = load_antenna_gain(data_freq)"
   ]
  },
  {
   "cell_type": "code",
   "execution_count": null,
   "id": "6fd6dfaa",
   "metadata": {},
   "outputs": [],
   "source": [
    "#next you need to load up simulated coax cable losses to get\n",
    "#Psim2 = (Psky + N_lna) * G_ant*A_corr*L_coax\n",
    "#currently loads up gain/100m digitized from fig 2 in the paper\n",
    "\n",
    "def load_coax_losses(freq, distance):\n",
    "    fMHz, gdB = np.loadtxt('data/lwa_coax_per_100m.csv', delimiter=',').T\n",
    "    gfunc = interp1d(fMHz, gdB, fill_value='extrapolate')\n",
    "    gain_out = gfunc(freq/1e6) * distance/100.\n",
    "    return 10.**(gain_out/10.)\n",
    "\n",
    "L_coax = load_coax_losses(data_freq, coax_distance)"
   ]
  },
  {
   "cell_type": "code",
   "execution_count": null,
   "id": "5029435c",
   "metadata": {},
   "outputs": [],
   "source": [
    "#next you need to add in the last stage amplifier + ADC noise\n",
    "#Psim3 = [(Psky + N_lna) * G_ant*A_corr*L_coax + N_RCU]*G_RCU*S_const + N_ADC\n",
    "#currently loads up gain digitized from fig 3 in the paper\n",
    "\n",
    "def load_RCU_gain(freq):\n",
    "    fMHz, gdB = np.loadtxt('data/lwa_rcu_gain.csv', delimiter=',').T\n",
    "    gfunc = interp1d(fMHz, gdB, fill_value='extrapolate')\n",
    "    gain_out = gfunc(freq/1e6)\n",
    "    return 10.**(gain_out/10.)\n",
    "\n",
    "G_RCU = load_RCU_gain(data_freq)\n",
    "plt.figure()\n",
    "plt.plot(data_freq/1e6, 10.*np.log10(G_ant), label='antenna gain')\n",
    "plt.plot(data_freq/1e6, 10.*np.log10(L_coax), label='coax loss')\n",
    "plt.plot(data_freq/1e6, 10.*np.log10(G_RCU), label='filter gain')\n",
    "plt.xlabel(\"frequency (MHz)\")\n",
    "plt.ylabel('gain (dB)')\n",
    "plt.legend()"
   ]
  },
  {
   "cell_type": "markdown",
   "id": "ba64ecd1",
   "metadata": {},
   "source": [
    "# part 3 : use system of equations to find unknowns"
   ]
  },
  {
   "cell_type": "code",
   "execution_count": null,
   "id": "6ffbf24a",
   "metadata": {},
   "outputs": [],
   "source": [
    "from scipy.optimize import curve_fit\n",
    "#note that curve fit needs things flattened\n",
    "\n",
    "def optfunc(x, N_lna, N_RCU, S_const, N_ADC, *A_corr):\n",
    "    # G_ant, L_coax and G_RCU are implicit global here (okay for now)\n",
    "    A_i = np.array(A_corr)\n",
    "    y = ((x + N_lna)*G_ant*A_i*L_coax + N_RCU)*G_RCU*S_const + N_ADC\n",
    "    #y = ((x + N_lna)*G_ant*L_coax + N_RCU)*G_RCU*S_const + N_ADC #removed the antenna correction factor\n",
    "    return y.flatten()\n",
    "\n",
    "popt, pcov = curve_fit(optfunc, P_sim, P_data.flatten(), p0 = np.ones(4 + data_freq.shape[0]), bounds = (0, np.inf))"
   ]
  },
  {
   "cell_type": "code",
   "execution_count": null,
   "id": "4b38ea34",
   "metadata": {},
   "outputs": [],
   "source": [
    "cal_factor = np.sqrt(1/(popt[4:] * L_coax * G_RCU * popt[2])) # C**2 = (A_corr * L_coax * G_RCU * S)**-1\n",
    "print(cal_factor)"
   ]
  },
  {
   "cell_type": "code",
   "execution_count": null,
   "id": "59d9f385",
   "metadata": {},
   "outputs": [],
   "source": [
    "print(popt)"
   ]
  },
  {
   "cell_type": "code",
   "execution_count": null,
   "id": "af993ed0",
   "metadata": {},
   "outputs": [],
   "source": [
    "plt.figure()\n",
    "plt.semilogy(data_freq/1e6, np.mean(P_sim, axis=0)/(50*np.diff(data_freq/1e6)[0]), label='sky_noise')\n",
    "plt.legend()\n",
    "plt.xlabel('frequency (MHz)')\n",
    "plt.ylabel('noise spectral density (watts/MHz)')"
   ]
  },
  {
   "cell_type": "code",
   "execution_count": null,
   "id": "483708f2",
   "metadata": {},
   "outputs": [],
   "source": []
  }
 ],
 "metadata": {
  "kernelspec": {
   "display_name": "Python 3 (ipykernel)",
   "language": "python",
   "name": "python3"
  },
  "language_info": {
   "codemirror_mode": {
    "name": "ipython",
    "version": 3
   },
   "file_extension": ".py",
   "mimetype": "text/x-python",
   "name": "python",
   "nbconvert_exporter": "python",
   "pygments_lexer": "ipython3",
   "version": "3.10.9"
  }
 },
 "nbformat": 4,
 "nbformat_minor": 5
}
