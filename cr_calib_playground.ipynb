{
 "cells": [
  {
   "cell_type": "code",
   "execution_count": null,
   "id": "fc6a26f7",
   "metadata": {},
   "outputs": [],
   "source": [
    "import numpy as np\n",
    "import matplotlib.pyplot as plt\n",
    "import os\n",
    "import sys\n",
    "import math\n",
    "import pylab\n",
    "from scipy.interpolate import interp1d\n",
    "from scipy.signal import medfilt\n",
    "import time\n",
    "from detector import Detector\n",
    "%matplotlib notebook"
   ]
  },
  {
   "cell_type": "code",
   "execution_count": null,
   "id": "ec223e13",
   "metadata": {},
   "outputs": [],
   "source": [
    "#need lwa software library for this\n",
    "from driftcurve import driftcurve, single_time_driftcurve\n",
    "import cr_data_inspection_functions as crd"
   ]
  },
  {
   "cell_type": "code",
   "execution_count": null,
   "id": "3a3e9eac",
   "metadata": {
    "scrolled": false
   },
   "outputs": [],
   "source": [
    "#driftcurve(do_plot=True, frequency=15.e6)"
   ]
  },
  {
   "cell_type": "markdown",
   "id": "2715be05",
   "metadata": {},
   "source": [
    "# part 1 : load up the data"
   ]
  },
  {
   "cell_type": "code",
   "execution_count": null,
   "id": "5de37ac1",
   "metadata": {},
   "outputs": [],
   "source": [
    "fname = '/scr/kp/cr_data/overnight_scan_20-21April2023/overnight_software_snapshots1682051758.6163533.dat'\n",
    "events = crd.parsefile(fname, end_ind = 1000)\n",
    "ant_id = np.array([events[i]['antenna_id'] for i in range(len(events))])\n",
    "all_data_times = np.array([events[i]['timestamp'] for i in range(len(events))])\n",
    "all_data_wfs = np.array([events[i]['data'] for i in range(len(events))])"
   ]
  },
  {
   "cell_type": "code",
   "execution_count": null,
   "id": "a97fceda",
   "metadata": {},
   "outputs": [],
   "source": [
    "#select only one antenna\n",
    "which_antenna = 0\n",
    "cut = ant_id == which_antenna\n",
    "data_times = all_data_times[cut]\n",
    "data_wfs = all_data_wfs[cut]\n",
    "Nevents = len(data_times)\n",
    "print('number of events:', Nevents)"
   ]
  },
  {
   "cell_type": "code",
   "execution_count": null,
   "id": "66519833",
   "metadata": {},
   "outputs": [],
   "source": [
    "def hanning_window(L):\n",
    "    n = np.arange(L)\n",
    "    return 0.5*(1-np.cos(2*np.pi*n/L))\n",
    "\n",
    "def do_fft(fs, samples):\n",
    "    '''\n",
    "    returns only the positive frequencies of the FFT\n",
    "    no normalization is applied\n",
    "    applies a Hanning window to the FFT\n",
    "    '''\n",
    "    L = samples.shape[-1]\n",
    "\n",
    "    N2 = L//2\n",
    "    f_res = fs/L   # Frequency resolution\n",
    "\n",
    "    #Y = np.fft.fft(samples*hanning_window(L), L)\n",
    "    Y = np.fft.fft(samples, L)\n",
    "\n",
    "    # Get the values of interest\n",
    "    Y_amp = np.abs(Y)\n",
    "    Y_phase = np.arctan2(Y.imag, Y.real)\n",
    "\n",
    "    freq = np.arange(0, N2)*f_res\n",
    "\n",
    "    amp = Y_amp.T[:N2].T\n",
    "    ph = Y_phase.T[:N2].T\n",
    "\n",
    "    return freq, amp, ph"
   ]
  },
  {
   "cell_type": "code",
   "execution_count": null,
   "id": "558555b8",
   "metadata": {},
   "outputs": [],
   "source": [
    "N = data_wfs.shape[-1]\n",
    "ADC_MAX = 2**9 #10 bits, but signed\n",
    "ADC_to_V = 1.35 #TODO this is a guess\n",
    "fs = 196.608e6 # clock frequency from r monroe paper\n",
    "all_data_freq, data_amp, data_phase = do_fft(fs, data_wfs)\n",
    "#normalization to turn to Vrms\n",
    "data_amp *= ADC_to_V/(ADC_MAX*N)\n",
    "data_power = np.abs(data_amp)**2\n",
    "#in rms V^2 at the ADC, factor of 2 is for negative freqs\n",
    "all_P_data = 2. * data_power\n",
    "\n",
    "#setting coax cable distance to 100m for now, will eventually vary with antenna\n",
    "coax_distance = 100.\n"
   ]
  },
  {
   "cell_type": "code",
   "execution_count": null,
   "id": "251f4a77",
   "metadata": {},
   "outputs": [],
   "source": [
    "#filter in detector.py only goes 30-80 right now\n",
    "#antenna only goes 24-94\n",
    "FREQ_MIN = 24.e6\n",
    "FREQ_MAX = 94.e6\n",
    "cut = np.logical_and(all_data_freq >= FREQ_MIN, all_data_freq <= FREQ_MAX)\n",
    "data_freq = all_data_freq[cut]\n",
    "\n",
    "#median filter spectra to remove spikes\n",
    "#TODO: do real filtering\n",
    "P_data = medfilt(all_P_data, [1,101])[:,cut]\n",
    "\n",
    "#downsample frequencies to make this run faster\n",
    "downsample_N = 50 #set to 1 to not downsample\n",
    "data_freq =data_freq[::downsample_N]\n",
    "dF = np.diff(data_freq)[0]\n",
    "P_data = downsample_N * P_data[:,::downsample_N]/dF # to V^2/Hz\n",
    "\n",
    "plt.figure()\n",
    "plt.semilogy(all_data_freq/1e6, np.sqrt(all_P_data[0]), label='real trace')\n",
    "plt.semilogy(data_freq/1e6, np.sqrt(P_data[0] * dF/downsample_N), label='filtered trace')\n",
    "plt.xlabel(\"freq (MHz)\")\n",
    "plt.ylabel(r'Vrms at ADC input ($V_{rms}$)')\n",
    "plt.legend()\n"
   ]
  },
  {
   "cell_type": "markdown",
   "id": "9b85d317",
   "metadata": {},
   "source": [
    "# part 2 : set up the system of equations"
   ]
  },
  {
   "cell_type": "code",
   "execution_count": null,
   "id": "63c763ae",
   "metadata": {},
   "outputs": [],
   "source": [
    "#gives skytemp in K and lst\n",
    "#note that skytemp does not include antenna LNA gain\n",
    "#lst, skytemp = driftcurve(do_plot=False)\n",
    "det = Detector()\n",
    "dfreq = data_freq[1] - data_freq[0]\n",
    "P_sim = []\n",
    "USE_FILTER=True\n",
    "if FREQ_MIN < 30.e6 or FREQ_MAX > 80.e6:\n",
    "    USE_FILTER = False # filter response in detector only runs 30-80 so we gotta fit it\n",
    "for t in data_times:\n",
    "    Tsky = []\n",
    "    for f in data_freq:\n",
    "        lst, T = single_time_driftcurve(time_start = t, frequency = f)\n",
    "        Tsky.append(T)\n",
    "    Tsky = np.array(Tsky)\n",
    "    Psky = det.calculate_noise_power(data_freq/1e6, Tsky, dF/1e6, use_filter_datasheet=USE_FILTER)\n",
    "    P_sim.append(Psky)\n",
    "P_sim = np.array(P_sim).reshape(data_times.shape[0], data_freq.shape[0])"
   ]
  },
  {
   "cell_type": "code",
   "execution_count": null,
   "id": "6fd6dfaa",
   "metadata": {},
   "outputs": [],
   "source": [
    "#next you need to load up simulated coax cable losses to get\n",
    "#currently loads up gain/100m digitized from fig 2 in the lofar calib paper\n",
    "\n",
    "def load_coax_losses(freq, distance):\n",
    "    fMHz, gdB = np.loadtxt('data/lofar_coax_per_100m.csv', delimiter=',').T\n",
    "    gfunc = interp1d(fMHz, gdB, fill_value='extrapolate')\n",
    "    gain_out = gfunc(freq/1e6) * distance/100.\n",
    "    return 10.**(gain_out/10.)\n",
    "\n",
    "L_coax = load_coax_losses(data_freq, coax_distance)\n",
    "P_sim *= L_coax"
   ]
  },
  {
   "cell_type": "markdown",
   "id": "ba64ecd1",
   "metadata": {},
   "source": [
    "# part 3 : use system of equations to find unknowns"
   ]
  },
  {
   "cell_type": "code",
   "execution_count": null,
   "id": "6ffbf24a",
   "metadata": {},
   "outputs": [],
   "source": [
    "from scipy.optimize import curve_fit\n",
    "#note that curve fit needs things flattened\n",
    "\n",
    "def optfunc(x, *G_corr):\n",
    "    # G_corr is a frequency dependent gain correction\n",
    "    G = np.array(G_corr)\n",
    "    y = x * G\n",
    "    return y.flatten()\n",
    "\n",
    "if Nevents < data_freq.shape[0]:\n",
    "    method = 'trf'\n",
    "else:\n",
    "    method = 'lm'\n",
    "    \n",
    "popt, pcov = curve_fit(optfunc, P_sim, P_data.flatten(), p0 = 1e8*np.ones(data_freq.shape[0]))"
   ]
  },
  {
   "cell_type": "code",
   "execution_count": null,
   "id": "0a0675cc",
   "metadata": {},
   "outputs": [],
   "source": [
    "print('system gain best fit params (in dB) =\\n', 10.*np.log10(popt))\n",
    "if USE_FILTER:\n",
    "    print('\\nFilter response is NOT included in fit')\n",
    "else:\n",
    "    print('\\nFilter response is included in fit')"
   ]
  },
  {
   "cell_type": "code",
   "execution_count": null,
   "id": "4027555e",
   "metadata": {},
   "outputs": [],
   "source": [
    "print('data/sim (in dB) =\\n', 10.*np.log10(P_data/P_sim))"
   ]
  },
  {
   "cell_type": "code",
   "execution_count": null,
   "id": "54b4e9a0",
   "metadata": {},
   "outputs": [],
   "source": []
  }
 ],
 "metadata": {
  "kernelspec": {
   "display_name": "Python 3 (ipykernel)",
   "language": "python",
   "name": "python3"
  },
  "language_info": {
   "codemirror_mode": {
    "name": "ipython",
    "version": 3
   },
   "file_extension": ".py",
   "mimetype": "text/x-python",
   "name": "python",
   "nbconvert_exporter": "python",
   "pygments_lexer": "ipython3",
   "version": "3.10.9"
  }
 },
 "nbformat": 4,
 "nbformat_minor": 5
}
