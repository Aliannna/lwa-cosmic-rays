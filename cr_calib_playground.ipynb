{
 "cells": [
  {
   "cell_type": "code",
   "execution_count": null,
   "id": "fc6a26f7",
   "metadata": {},
   "outputs": [],
   "source": [
    "import numpy as np\n",
    "import matplotlib.pyplot as plt\n",
    "import os\n",
    "import sys\n",
    "import math\n",
    "import pylab\n",
    "from scipy.interpolate import interp1d\n",
    "import time"
   ]
  },
  {
   "cell_type": "code",
   "execution_count": null,
   "id": "ec223e13",
   "metadata": {},
   "outputs": [],
   "source": [
    "from driftcurve import driftcurve, single_time_driftcurve\n",
    "import cr_data_inspection_functions as crd"
   ]
  },
  {
   "cell_type": "markdown",
   "id": "2715be05",
   "metadata": {},
   "source": [
    "# part 1 : load up the data"
   ]
  },
  {
   "cell_type": "code",
   "execution_count": null,
   "id": "5de37ac1",
   "metadata": {},
   "outputs": [],
   "source": [
    "fname = '/scr/kp/cr_data/overnight_scan_20-21April2023/overnight_software_snapshots1682051758.6163533.dat'\n",
    "cr_events = crd.parsefile(fname, end_ind = 100)\n",
    "cr_data_times = np.array([cr_events[i]['timestamp'] for i in range(len(cr_events))])\n",
    "cr_data = np.array([cr_events[i]['data'] for i in range(len(cr_events))])"
   ]
  },
  {
   "cell_type": "code",
   "execution_count": null,
   "id": "558555b8",
   "metadata": {},
   "outputs": [],
   "source": [
    "ADC_to_V = 1.\n",
    "P_data = (ADC_to_V * np.fft(cr_data))**2"
   ]
  },
  {
   "cell_type": "markdown",
   "id": "9b85d317",
   "metadata": {},
   "source": [
    "# part 2 : set up the system of equations"
   ]
  },
  {
   "cell_type": "code",
   "execution_count": null,
   "id": "63c763ae",
   "metadata": {},
   "outputs": [],
   "source": [
    "#gives skytemp in K and lst\n",
    "#note that skytemp does not include antenna LNA gain\n",
    "#lst, skytemp = driftcurve(do_plot=False)\n",
    "dfreq = 10e6 # frequency steps\n",
    "fmin =20e6\n",
    "fmax = 81e6\n",
    "freq = np.arange(fmin, fmax, dfreq)\n",
    "Psky_at_time = []\n",
    "for t in cr_data_times:\n",
    "    Tsky = []\n",
    "    for f in freq:\n",
    "        lst, T = single_time_driftcurve(frequency = f)\n",
    "        Tsky.append(T)\n",
    "    Tsky = np.array(Tsky)\n",
    "    k_b = 8.617333e-5 #V/K\n",
    "    r_ant = 50. # ohms, this is a guess\n",
    "    Psky = 2.0 * k_b * Tsky * dfreq * r_ant #in V^2\n",
    "    Psky_at_time.append(Psky)\n",
    "Psky_at_time = np.array(Psky_at_time).reshape(cr_data_times.shape[0], freq.shape[0])"
   ]
  },
  {
   "cell_type": "code",
   "execution_count": null,
   "id": "37e39ed9",
   "metadata": {},
   "outputs": [],
   "source": [
    "#need to load up antenna + LNA gain simulated\n",
    "#this is what you need for Psim1 in lwa paper\n",
    "#Psim1 = (Psky + N_lna) * G_ant*A_corr\n",
    "\n",
    "def load_antenna_gain(freq):\n",
    "    return np.ones(freq.shape, dtype=float)\n",
    "\n",
    "G_ant = load_antenna_gain(freq)"
   ]
  },
  {
   "cell_type": "code",
   "execution_count": null,
   "id": "6fd6dfaa",
   "metadata": {},
   "outputs": [],
   "source": [
    "#next you need to load up simulated coax cable losses to get\n",
    "#Psim2 = (Psky + N_lna) * G_ant*A_corr*L_coax\n",
    "\n",
    "def load_coax_losses(freq):\n",
    "    return np.ones(freq.shape, dtype=float)\n",
    "\n",
    "L_coax = load_coax_losses(freq)"
   ]
  },
  {
   "cell_type": "code",
   "execution_count": null,
   "id": "5029435c",
   "metadata": {},
   "outputs": [],
   "source": [
    "#next you need to add in the last stage amplifier + ADC noise\n",
    "#Psim3 = [(Psky + N_lna) * G_ant*A_corr*L_coax + N_RCU]*G_RCU*S_const + N_ADC\n",
    "\n",
    "def load_RCU_gain(freq):\n",
    "    return np.ones(freq.shape, dtype=float)\n",
    "\n",
    "G_RCU = load_RCU_gain(freq)"
   ]
  },
  {
   "cell_type": "markdown",
   "id": "ba64ecd1",
   "metadata": {},
   "source": [
    "# part 3 : use system of equations to find unknowns"
   ]
  },
  {
   "cell_type": "code",
   "execution_count": null,
   "id": "6ffbf24a",
   "metadata": {},
   "outputs": [],
   "source": [
    "from scipy.optimize import curve_fit\n",
    "def optfunc(x, N_lna, N_RCU, S_const, N_ADC, *A_corr):\n",
    "    # G_ant, L_coax and G_RCU are implicit global here (dumb but okay for now)\n",
    "    y = sum(((x_i + N_lna)*G_ant*A_i*L_coax + N_RCU)*G_RCU*S_const + N_ADC for x_i, A_i in zip(x, A_corr))\n",
    "    return y\n",
    "\n",
    "popt, pcov = curve_fit(optfunc, P_data, P_sky_at_time, p0 = np.ones(4 + freq.shape[0]))"
   ]
  },
  {
   "cell_type": "code",
   "execution_count": null,
   "id": "7b172aaa",
   "metadata": {},
   "outputs": [],
   "source": []
  }
 ],
 "metadata": {
  "kernelspec": {
   "display_name": "Python 3 (ipykernel)",
   "language": "python",
   "name": "python3"
  },
  "language_info": {
   "codemirror_mode": {
    "name": "ipython",
    "version": 3
   },
   "file_extension": ".py",
   "mimetype": "text/x-python",
   "name": "python",
   "nbconvert_exporter": "python",
   "pygments_lexer": "ipython3",
   "version": "3.10.9"
  }
 },
 "nbformat": 4,
 "nbformat_minor": 5
}
